{
 "cells": [
  {
   "cell_type": "code",
   "execution_count": 40,
   "metadata": {},
   "outputs": [
    {
     "name": "stderr",
     "output_type": "stream",
     "text": [
      "[nltk_data] Downloading package wordnet to\n",
      "[nltk_data]     /Users/nitanshjain/nltk_data...\n",
      "[nltk_data]   Package wordnet is already up-to-date!\n",
      "[nltk_data] Downloading package omw-1.4 to\n",
      "[nltk_data]     /Users/nitanshjain/nltk_data...\n",
      "[nltk_data]   Package omw-1.4 is already up-to-date!\n",
      "[nltk_data] Downloading package words to\n",
      "[nltk_data]     /Users/nitanshjain/nltk_data...\n",
      "[nltk_data]   Package words is already up-to-date!\n"
     ]
    }
   ],
   "source": [
    "import pandas as pd\n",
    "import numpy as np\n",
    "import re\n",
    "\n",
    "from urllib.parse import urlparse\n",
    "import contractions\n",
    "import string\n",
    "import num2words\n",
    "\n",
    "import nltk\n",
    "nltk.download('wordnet')\n",
    "nltk.download('omw-1.4')\n",
    "nltk.download('words')\n",
    "from nltk.tokenize import sent_tokenize, word_tokenize, TweetTokenizer\n",
    "from nltk.corpus import words, stopwords\n",
    "from nltk.metrics.distance import jaccard_distance, edit_distance\n",
    "from nltk.util import ngrams\n",
    "from nltk.stem import WordNetLemmatizer"
   ]
  },
  {
   "cell_type": "code",
   "execution_count": 41,
   "metadata": {},
   "outputs": [],
   "source": [
    "train_df = pd.read_csv('/Users/nitanshjain/Documents/Projects/CASE/tanfiona CausalNewsCorpus master data-V2/test_subtask1_text.csv')\n",
    "# dev_df = pd.read_csv('/Users/nitanshjain/Documents/Projects/CASE/tanfiona CausalNewsCorpus master data-V2/dev_subtask1.csv')\n",
    "# print(train_df.shape)\n",
    "# print(dev_df.shape)\n",
    "# train_df = pd.concat([train_df, dev_df], ignore_index=True)\n",
    "# print(train_df.shape)\n",
    "# train_df.head()"
   ]
  },
  {
   "cell_type": "code",
   "execution_count": 42,
   "metadata": {},
   "outputs": [
    {
     "name": "stdout",
     "output_type": "stream",
     "text": [
      "index    0\n",
      "text     0\n",
      "dtype: int64\n",
      "(352, 2)\n",
      "index    object\n",
      "text     object\n",
      "dtype: object\n"
     ]
    }
   ],
   "source": [
    "print(train_df.isna().sum())\n",
    "print(train_df.shape)\n",
    "print(train_df.dtypes)\n",
    "# print(train_df.label.value_counts())"
   ]
  },
  {
   "cell_type": "code",
   "execution_count": 43,
   "metadata": {},
   "outputs": [],
   "source": [
    "abbreviations = {\n",
    "    'n\\'t':'not',\n",
    "    'won\\'t':'will not',\n",
    "    'can\\'t':'can not',\n",
    "    'i\\'m':'i am',\n",
    "    'you\\'re':'you are',\n",
    "    'he\\'s':'he is',\n",
    "    'she\\'s':'she is',\n",
    "    'it\\'s':'it is',\n",
    "    'we\\'re':'we are',\n",
    "    'they\\'re':'they are',\n",
    "    'i\\'ve':'i have',\n",
    "    'you\\'ve':'you have',\n",
    "    'we\\'ve':'we have',\n",
    "    'NaMo':'Narendra Modi',\n",
    "    'PMO':'Prime Minister Office',\n",
    "    'PM':'Prime Minister',\n",
    "    'BJP':'Bharatiya Janata Party',\n",
    "    'INC':'Indian National Congress',\n",
    "    'AAP':'Aam Aadmi Party',\n",
    "    'J&K':'Jammu and Kashmir',\n",
    "    'NHAI':'National Highways Authority of India',\n",
    "    'CPI':'Communist Party of India',\n",
    "    'CPI(M)':'Communist Party of India (Marxist)',\n",
    "    'CPI-M':'Communist Party of India (Marxist)',\n",
    "    'HQs':'Headquarters',\n",
    "    'NGO':'Non Governmental Organization',\n",
    "    'NGOs':'Non Governmental Organizations',\n",
    "}\n"
   ]
  },
  {
   "cell_type": "code",
   "execution_count": 44,
   "metadata": {},
   "outputs": [],
   "source": [
    "def removing_links(text):\n",
    "    tokenizer = TweetTokenizer()\n",
    "    tokens = tokenizer.tokenize(text)\n",
    "    x = [word for word in tokens if not urlparse(word).scheme]\n",
    "    text = ' '.join(x)\n",
    "    return text\n",
    "\n",
    "def contractions_handling(text):\n",
    "    text = contractions.fix(text)\n",
    "    return text\n",
    "\n",
    "def replacing_abbr(text, dictry):\n",
    "    tokenizer = TweetTokenizer()\n",
    "    tokens = tokenizer.tokenize(text)\n",
    "    x = [dictry[word] if word in dictry.keys() else word for word in tokens]\n",
    "    text = ' '.join(x)\n",
    "    return text\n",
    "\n",
    "def removing_punctuations(text):\n",
    "    text = text.translate(str.maketrans(' ', ' ', string.punctuation))\n",
    "    text = text.lower()\n",
    "    return text\n",
    "\n",
    "def removing_stopwords(text):\n",
    "    tokenizer = TweetTokenizer()\n",
    "    tokens = tokenizer.tokenize(text)\n",
    "    x = [word for word in tokens if word not in stopwords.words('english')]\n",
    "    text = ' '.join(x)\n",
    "    return text\n",
    "\n",
    "def convert_num_words(text):\n",
    "    re_results = re.findall('(\\d+(st|nd|rd|th))', text)\n",
    "    for entire_result, suffix in re_results:\n",
    "        num = int(entire_result[:-len(suffix)])\n",
    "        entire_result = \" \" + entire_result\n",
    "        num_word = num2words.num2words(num, ordinal=True)\n",
    "        text = text.replace(entire_result, \" \" + num_word)\n",
    "    \n",
    "    tokenizer = TweetTokenizer()\n",
    "    tokens = tokenizer.tokenize(text)\n",
    "    tokens = [num2words.num2words(word) if word.isdigit() else word for word in tokens]\n",
    "    text = ' '.join(tokens)\n",
    "    \n",
    "    return text\n",
    "\n",
    "def removing_char_less_3(text):\n",
    "    tokenizer = TweetTokenizer()\n",
    "    tokens = tokenizer.tokenize(text)\n",
    "    tokens = [word for word in tokens if len(word) >= 3]\n",
    "    text = ' '.join(tokens)\n",
    "    return text"
   ]
  },
  {
   "cell_type": "code",
   "execution_count": 45,
   "metadata": {},
   "outputs": [
    {
     "data": {
      "text/html": [
       "<div>\n",
       "<style scoped>\n",
       "    .dataframe tbody tr th:only-of-type {\n",
       "        vertical-align: middle;\n",
       "    }\n",
       "\n",
       "    .dataframe tbody tr th {\n",
       "        vertical-align: top;\n",
       "    }\n",
       "\n",
       "    .dataframe thead th {\n",
       "        text-align: right;\n",
       "    }\n",
       "</style>\n",
       "<table border=\"1\" class=\"dataframe\">\n",
       "  <thead>\n",
       "    <tr style=\"text-align: right;\">\n",
       "      <th></th>\n",
       "      <th>index</th>\n",
       "      <th>text</th>\n",
       "    </tr>\n",
       "  </thead>\n",
       "  <tbody>\n",
       "    <tr>\n",
       "      <th>0</th>\n",
       "      <td>test_01_A_0_271</td>\n",
       "      <td>more than twenty associate degree students mar...</td>\n",
       "    </tr>\n",
       "    <tr>\n",
       "      <th>1</th>\n",
       "      <td>test_01_A_1_215</td>\n",
       "      <td>more than ten people from the rights associati...</td>\n",
       "    </tr>\n",
       "    <tr>\n",
       "      <th>2</th>\n",
       "      <td>test_01_A_10_198</td>\n",
       "      <td>the organisation has been spearheading agitati...</td>\n",
       "    </tr>\n",
       "    <tr>\n",
       "      <th>3</th>\n",
       "      <td>test_01_A_100_277</td>\n",
       "      <td>not believe politicians that they will achieve...</td>\n",
       "    </tr>\n",
       "    <tr>\n",
       "      <th>4</th>\n",
       "      <td>test_01_A_101_152</td>\n",
       "      <td>for that matter haragopal himself took proacti...</td>\n",
       "    </tr>\n",
       "  </tbody>\n",
       "</table>\n",
       "</div>"
      ],
      "text/plain": [
       "               index                                               text\n",
       "0    test_01_A_0_271  more than twenty associate degree students mar...\n",
       "1    test_01_A_1_215  more than ten people from the rights associati...\n",
       "2   test_01_A_10_198  the organisation has been spearheading agitati...\n",
       "3  test_01_A_100_277  not believe politicians that they will achieve...\n",
       "4  test_01_A_101_152  for that matter haragopal himself took proacti..."
      ]
     },
     "execution_count": 45,
     "metadata": {},
     "output_type": "execute_result"
    }
   ],
   "source": [
    "train_df['text'] = train_df['text'].apply(lambda x: removing_links(x))\n",
    "train_df['text'] = train_df['text'].apply(lambda x: contractions_handling(x))\n",
    "# train_df['text'] = train_df['text'].apply(lambda x: replacing_abbr(x, abbreviations))\n",
    "train_df['text'] = train_df['text'].apply(lambda x: removing_punctuations(x))\n",
    "# train_df['text'] = train_df['text'].apply(lambda x: removing_stopwords(x))\n",
    "train_df['text'] = train_df['text'].apply(lambda x: convert_num_words(x))\n",
    "train_df['text'] = train_df['text'].apply(lambda x: removing_char_less_3(x))\n",
    "\n",
    "train_df.head()"
   ]
  },
  {
   "cell_type": "code",
   "execution_count": 46,
   "metadata": {},
   "outputs": [],
   "source": [
    "train_df.to_csv('/Users/nitanshjain/Documents/Projects/CASE/subtask_1/subtask_1_data/test_subtask1_test_preprocessed_4.csv', index=False)"
   ]
  },
  {
   "cell_type": "code",
   "execution_count": 47,
   "metadata": {},
   "outputs": [],
   "source": [
    "# 1 - no stopwords and removed few abbreviations\n",
    "# 2 - with stopwords and removed few abbreviations\n",
    "# 3 - no stopwords and didnt remove abbreviations\n",
    "# 4 - with stopwords and didnt remove abbreviations"
   ]
  }
 ],
 "metadata": {
  "kernelspec": {
   "display_name": "CASE-cD2HfaeL",
   "language": "python",
   "name": "python3"
  },
  "language_info": {
   "codemirror_mode": {
    "name": "ipython",
    "version": 3
   },
   "file_extension": ".py",
   "mimetype": "text/x-python",
   "name": "python",
   "nbconvert_exporter": "python",
   "pygments_lexer": "ipython3",
   "version": "3.10.4"
  },
  "orig_nbformat": 4
 },
 "nbformat": 4,
 "nbformat_minor": 2
}
